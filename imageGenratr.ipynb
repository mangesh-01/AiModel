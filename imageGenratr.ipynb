{
 "cells": [
  {
   "cell_type": "code",
   "execution_count": null,
   "id": "b41bd2e7",
   "metadata": {},
   "outputs": [
    {
     "name": "stdout",
     "output_type": "stream",
     "text": [
      "\n",
      "📝 Gemini Response:\n",
      "\n",
      "❌ Error 400: {\"error\":{\"message\":\"mistralai/mixtral-8x7b is not a valid model ID\",\"code\":400},\"user_id\":\"user_303LEL2alqessecp3O4FlgK5WyM\"}\n"
     ]
    }
   ],
   "source": [
    "import google.generativeai as genai\n",
    "import urllib.parse\n",
    "import webbrowser\n",
    "\n",
    "# ============ CONFIG ============ #\n",
    "genai.configure(api_key=\"api_keys\")\n",
    "model = genai.GenerativeModel(\"gemini-1.5-pro\")\n",
    "# ================================= #\n",
    "\n",
    "def get_inputs():\n",
    "    name = input(\"🌟 What's your name? \")\n",
    "    mood = input(\"💬 How are you feeling today? \")\n",
    "    loves = input(\"🎨 What are 1-2 things you love? (e.g., space, forests): \")\n",
    "    return name, mood, loves\n",
    "\n",
    "def get_ai_response(name, mood, loves):\n",
    "    prompt = f\"\"\"\n",
    "    You're an artistic AI. A user named {name} says they feel \"{mood}\" today and they love \"{loves}\".\n",
    "    1. Craft a rich, visual prompt for an AI image generator.\n",
    "    2. Then write a 1-2 line poetic caption or quote to match the art.\n",
    "    \n",
    "    Respond in the format:\n",
    "    Image Prompt: ...\n",
    "    Caption: ...\n",
    "    \"\"\"\n",
    "    response = model.generate_content(prompt)\n",
    "    return response.text\n",
    "\n",
    "def open_image(prompt_text):\n",
    "    prompt_encoded = urllib.parse.quote(prompt_text)\n",
    "    image_url = f\"https://image.pollinations.ai/prompt/{prompt_encoded}\"\n",
    "    print(f\"\\n🖼️ Opening your artwork...\\n{image_url}\")\n",
    "    webbrowser.open(image_url)\n",
    "\n",
    "def main():\n",
    "    name, mood, loves = get_inputs()\n",
    "    response = get_ai_response(name, mood, loves)\n",
    "\n",
    "    print(\"\\n📝 Gemini Response:\\n\")\n",
    "    print(response)\n",
    "\n",
    "    # Extract prompt line\n",
    "    for line in response.split(\"\\n\"):\n",
    "        if line.lower().startswith(\"image prompt\"):\n",
    "            prompt_text = line.split(\":\", 1)[1].strip()\n",
    "            open_image(prompt_text)\n",
    "            break\n",
    "\n",
    "if __name__ == \"__main__\":\n",
    "    main()\n"
   ]
  }
 ],
 "metadata": {
  "kernelspec": {
   "display_name": "Python 3",
   "language": "python",
   "name": "python3"
  },
  "language_info": {
   "codemirror_mode": {
    "name": "ipython",
    "version": 3
   },
   "file_extension": ".py",
   "mimetype": "text/x-python",
   "name": "python",
   "nbconvert_exporter": "python",
   "pygments_lexer": "ipython3",
   "version": "3.10.9"
  }
 },
 "nbformat": 4,
 "nbformat_minor": 5
}
