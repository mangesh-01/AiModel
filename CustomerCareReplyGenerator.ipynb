{
 "cells": [
  {
   "cell_type": "code",
   "execution_count": null,
   "id": "a4e52b61",
   "metadata": {},
   "outputs": [
    {
     "name": "stderr",
     "output_type": "stream",
     "text": [
      "C:\\Users\\ma\\AppData\\Roaming\\Python\\Python310\\site-packages\\tqdm\\auto.py:21: TqdmWarning: IProgress not found. Please update jupyter and ipywidgets. See https://ipywidgets.readthedocs.io/en/stable/user_install.html\n",
      "  from .autonotebook import tqdm as notebook_tqdm\n"
     ]
    },
    {
     "name": "stdout",
     "output_type": "stream",
     "text": [
      "\n",
      "📨 New customer message\n",
      "\n",
      "🤖 Gemini Suggested Reply:\n",
      "\n",
      "Thank you for your feedback. We strive to provide the best possible service, and your message indicates we haven't met your expectations. Could you please tell me more about your experience?  Knowing what specifically could be improved will help us to serve you and other customers better in the future.  We appreciate you taking the time to let us know.\n",
      "❌ Message not sent.\n",
      "👋 Exiting.\n"
     ]
    }
   ],
   "source": [
    "\"\"\"\n",
    "Used to generate customer care replies using Google Generative AI. Input the message of customer it will generate the reply. Copies it and pastes it in text box you open within 10 sec and presses enter button.\n",
    "\"\"\"\n",
    "import google.generativeai as genai\n",
    "import pyautogui\n",
    "import pyperclip\n",
    "import time\n",
    "\n",
    "\n",
    "genai.configure(api_key=\"api_keys\")\n",
    "model = genai.GenerativeModel(\"gemini-1.5-flash\")\n",
    "\n",
    "def generate_reply(message):\n",
    "    try:\n",
    "        prompt = f\"\"\"You are a polite and helpful customer support assistant for a local delivery and general store. Respond helpfully and clearly to this customer message:\\n\\n{message}\"\"\"\n",
    "        response = model.generate_content(prompt)\n",
    "        return response.text.strip()\n",
    "    except Exception as e:\n",
    "        return f\"❌ Error generating reply: {e}\"\n",
    "\n",
    "def copy_paste_enter(reply_text):\n",
    "    print(\"\\n Switching to WhatsApp. Please open the correct chat window.\")\n",
    "    time.sleep(10)\n",
    "    pyperclip.copy(reply_text)\n",
    "    pyautogui.hotkey(\"ctrl\", \"v\")\n",
    "    pyautogui.press(\"enter\")\n",
    "    print(\"✅ Message sent!\")\n",
    "\n",
    "def main():\n",
    "    while True:\n",
    "        print(\"\\n📨 New customer message\")\n",
    "        user_message = input(\"Paste the customer message:\\n> \")\n",
    "\n",
    "        ai_reply = generate_reply(user_message)\n",
    "        print(\"\\n🤖 Gemini Suggested Reply:\\n\")\n",
    "        print(ai_reply)\n",
    "\n",
    "        confirm = input(\"\\n Send this? n\"\n",
    "        \"(Y/Yes to confirm): \").strip().lower()\n",
    "        if confirm in [\"y\", \"yes\", \"Y\", \"Yes\"]:\n",
    "            copy_paste_enter(ai_reply)\n",
    "        else:\n",
    "            print(\"❌ Message not sent.\")\n",
    "\n",
    "        again = input(\"\\nReply to another message? (Y/N): \").strip().lower()\n",
    "        if again not in [\"y\", \"yes\"]:\n",
    "            print(\"👋 Exiting.\")\n",
    "            break\n",
    "\n",
    "if __name__ == \"__main__\":\n",
    "    main()\n"
   ]
  }
 ],
 "metadata": {
  "kernelspec": {
   "display_name": "Python 3",
   "language": "python",
   "name": "python3"
  },
  "language_info": {
   "codemirror_mode": {
    "name": "ipython",
    "version": 3
   },
   "file_extension": ".py",
   "mimetype": "text/x-python",
   "name": "python",
   "nbconvert_exporter": "python",
   "pygments_lexer": "ipython3",
   "version": "3.10.9"
  }
 },
 "nbformat": 4,
 "nbformat_minor": 5
}
